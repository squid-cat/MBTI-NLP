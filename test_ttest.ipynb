{
 "cells": [
  {
   "cell_type": "code",
   "execution_count": 7,
   "metadata": {},
   "outputs": [],
   "source": [
    "import numpy as np\n",
    "from module import ttest"
   ]
  },
  {
   "cell_type": "code",
   "execution_count": 8,
   "metadata": {},
   "outputs": [
    {
     "name": "stdout",
     "output_type": "stream",
     "text": [
      "===== 前の方法 =====\n",
      "F:        13.924579262911228\n",
      "p-value:  0.00030172458902882014\n",
      "===== 現在の方法 =====\n",
      "p-value:  0.0012285738375064348\n"
     ]
    }
   ],
   "source": [
    "# 前のwelch実装参考: https://qiita.com/suaaa7/items/745ac1ca0a8d6753cf60#welch%E3%82%A6%E3%82%A7%E3%83%AB%E3%83%81%E3%81%AEt%E6%A4%9C%E5%AE%9A\n",
    "\n",
    "# 想定\n",
    "# F:        13.925\n",
    "# p-value:  0.0003\n",
    "A = np.array([13.8, 10.2, 4.6, 10.0, 4.2, 16.1, 14.4, 4.9, 7.7, 11.4])\n",
    "B = np.array([3.3, 2.6, 4.0, 4.7, 1.9, 2.9, 4.7, 5.3, 4.3, 3.0, 2.0])\n",
    "\n",
    "print('===== 前の方法 =====')\n",
    "ttest.welch_test(A, B)\n",
    "print('===== 現在の方法 =====')\n",
    "ttest.new_welch_test(A, B)"
   ]
  },
  {
   "cell_type": "code",
   "execution_count": 9,
   "metadata": {},
   "outputs": [
    {
     "name": "stdout",
     "output_type": "stream",
     "text": [
      "===== 前の方法 =====\n",
      "F:        0.11670770837997166\n",
      "p-value:  0.003740859513399966\n",
      "===== 現在の方法 =====\n",
      "p-value:  0.008953364509453556\n"
     ]
    }
   ],
   "source": [
    "# https://tanigaku.jp/wp/?p=2556\n",
    "\n",
    "# 想定\n",
    "# F:        ?\n",
    "# p-value:  0.009\n",
    "C = np.array([153, 153, 152, 156, 158, 160, 162, 151, 151, 150])\n",
    "D = np.array([153, 146, 138, 152, 140, 128, 116, 146, 156, 142])\n",
    "\n",
    "print('===== 前の方法 =====')\n",
    "ttest.welch_test(C, D)\n",
    "print('===== 現在の方法 =====')\n",
    "ttest.new_welch_test(C, D)"
   ]
  },
  {
   "cell_type": "code",
   "execution_count": 10,
   "metadata": {},
   "outputs": [
    {
     "name": "stdout",
     "output_type": "stream",
     "text": [
      "===== 前の方法 =====\n",
      "F:        0.39427718986559557\n",
      "p-value:  0.05688232760494406\n",
      "===== 現在の方法 =====\n",
      "p-value:  0.04666068005376773\n"
     ]
    }
   ],
   "source": [
    "# (上と同じ) https://tanigaku.jp/wp/?p=2556\n",
    "\n",
    "# 想定\n",
    "# F:        ?\n",
    "# p-value:  0.047\n",
    "E = np.array([103, 73, 69, 103, 89, 58, 81, 78, 48, 59, 50, 71, 72, 42, 47, 90])\n",
    "F = np.array([108, 118, 90, 90, 49, 58, 59, 61, 97, 39, 99, 52, 43, 87, 104, 65, 123, 42, 74, 116, 36, 53, 93, 78, 80, 125, 110, 58, 139, 132, 57, 65, 138, 119, 111, 100])\n",
    "\n",
    "print('===== 前の方法 =====')\n",
    "ttest.welch_test(E, F)\n",
    "print('===== 現在の方法 =====')\n",
    "ttest.new_welch_test(E, F)"
   ]
  },
  {
   "cell_type": "code",
   "execution_count": 11,
   "metadata": {},
   "outputs": [
    {
     "name": "stdout",
     "output_type": "stream",
     "text": [
      "===== 前の方法 =====\n",
      "F:        1.436902968329273\n",
      "p-value:  0.5961327723740196\n",
      "===== 現在の方法 =====\n",
      "p-value:  0.010539579126215197\n"
     ]
    }
   ],
   "source": [
    "# https://corvus-window.com/weltchs-test/\n",
    "\n",
    "# 想定\n",
    "# F:        ?\n",
    "# p-value:  0.0105\n",
    "G = np.array([55, 82, 94, 80, 67, 92, 73, 60, 89, 75, 89, 95])\n",
    "H = np.array([68, 53, 72, 81, 75, 61, 64, 48, 72, 50])\n",
    "\n",
    "print('===== 前の方法 =====')\n",
    "ttest.welch_test(G, H)\n",
    "print('===== 現在の方法 =====')\n",
    "ttest.new_welch_test(G, H)"
   ]
  }
 ],
 "metadata": {
  "kernelspec": {
   "display_name": "Python 3.9.2 64-bit",
   "language": "python",
   "name": "python3"
  },
  "language_info": {
   "codemirror_mode": {
    "name": "ipython",
    "version": 3
   },
   "file_extension": ".py",
   "mimetype": "text/x-python",
   "name": "python",
   "nbconvert_exporter": "python",
   "pygments_lexer": "ipython3",
   "version": "3.9.2"
  },
  "orig_nbformat": 4,
  "vscode": {
   "interpreter": {
    "hash": "a85d2ef23d6583666fa71d3e08c04afc19f58e3c237388c1b61eada76bc58ca7"
   }
  }
 },
 "nbformat": 4,
 "nbformat_minor": 2
}
