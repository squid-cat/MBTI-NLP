{
 "cells": [
  {
   "cell_type": "code",
   "execution_count": 2,
   "metadata": {},
   "outputs": [],
   "source": [
    "# 参考\n",
    "# https://www.kaggle.com/code/alfredmaboa/personality-profile-prediction-team-01/notebook"
   ]
  },
  {
   "cell_type": "code",
   "execution_count": 3,
   "metadata": {},
   "outputs": [],
   "source": [
    "import numpy as np # linear algebra\n",
    "import pandas as pd # data processing, CSV file I/O (e.g. pd.read_csv)\n",
    "import seaborn as sns\n",
    "import matplotlib.pyplot as plt\n",
    "import re\n",
    "import nltk\n",
    "from sklearn.metrics import accuracy_score, f1_score\n",
    "from sklearn.metrics import precision_score, recall_score\n",
    "from sklearn.linear_model import LogisticRegressionCV\n",
    "from sklearn.multiclass import OneVsRestClassifier\n",
    "from sklearn.feature_extraction.text import TfidfVectorizer\n",
    "from sklearn.feature_extraction.text import TfidfTransformer\n",
    "from sklearn.feature_extraction.text import CountVectorizer\n",
    "from sklearn.model_selection import train_test_split\n",
    "from sklearn import metrics\n",
    "from sklearn.metrics import classification_report\n",
    "import warnings\n",
    "warnings.filterwarnings('ignore')"
   ]
  },
  {
   "cell_type": "code",
   "execution_count": 4,
   "metadata": {},
   "outputs": [],
   "source": [
    "data = pd.read_csv('./data/csv/mbti_1.csv')\n",
    "train_data, test_data=train_test_split(data,test_size=0.2,random_state=42,stratify=data.type)"
   ]
  },
  {
   "cell_type": "code",
   "execution_count": 5,
   "metadata": {},
   "outputs": [
    {
     "data": {
      "text/html": [
       "<div>\n",
       "<style scoped>\n",
       "    .dataframe tbody tr th:only-of-type {\n",
       "        vertical-align: middle;\n",
       "    }\n",
       "\n",
       "    .dataframe tbody tr th {\n",
       "        vertical-align: top;\n",
       "    }\n",
       "\n",
       "    .dataframe thead th {\n",
       "        text-align: right;\n",
       "    }\n",
       "</style>\n",
       "<table border=\"1\" class=\"dataframe\">\n",
       "  <thead>\n",
       "    <tr style=\"text-align: right;\">\n",
       "      <th></th>\n",
       "      <th>type</th>\n",
       "      <th>posts</th>\n",
       "    </tr>\n",
       "  </thead>\n",
       "  <tbody>\n",
       "    <tr>\n",
       "      <th>8331</th>\n",
       "      <td>INFP</td>\n",
       "      <td>'this is actually exactly what i expected!  :l...</td>\n",
       "    </tr>\n",
       "    <tr>\n",
       "      <th>1290</th>\n",
       "      <td>ISTP</td>\n",
       "      <td>'Nope.  Not now, not ever.  I'm too busy with ...</td>\n",
       "    </tr>\n",
       "    <tr>\n",
       "      <th>1982</th>\n",
       "      <td>ENFJ</td>\n",
       "      <td>'Yes peace is the absence of conflict - your I...</td>\n",
       "    </tr>\n",
       "    <tr>\n",
       "      <th>769</th>\n",
       "      <td>INFP</td>\n",
       "      <td>'I apologize for the delayed response, but tha...</td>\n",
       "    </tr>\n",
       "    <tr>\n",
       "      <th>8339</th>\n",
       "      <td>INFP</td>\n",
       "      <td>'Nightglow, I can't even imagine what you must...</td>\n",
       "    </tr>\n",
       "  </tbody>\n",
       "</table>\n",
       "</div>"
      ],
      "text/plain": [
       "      type                                              posts\n",
       "8331  INFP  'this is actually exactly what i expected!  :l...\n",
       "1290  ISTP  'Nope.  Not now, not ever.  I'm too busy with ...\n",
       "1982  ENFJ  'Yes peace is the absence of conflict - your I...\n",
       "769   INFP  'I apologize for the delayed response, but tha...\n",
       "8339  INFP  'Nightglow, I can't even imagine what you must..."
      ]
     },
     "execution_count": 5,
     "metadata": {},
     "output_type": "execute_result"
    }
   ],
   "source": [
    "train_data.head()"
   ]
  },
  {
   "cell_type": "code",
   "execution_count": 6,
   "metadata": {},
   "outputs": [
    {
     "data": {
      "text/html": [
       "<div>\n",
       "<style scoped>\n",
       "    .dataframe tbody tr th:only-of-type {\n",
       "        vertical-align: middle;\n",
       "    }\n",
       "\n",
       "    .dataframe tbody tr th {\n",
       "        vertical-align: top;\n",
       "    }\n",
       "\n",
       "    .dataframe thead th {\n",
       "        text-align: right;\n",
       "    }\n",
       "</style>\n",
       "<table border=\"1\" class=\"dataframe\">\n",
       "  <thead>\n",
       "    <tr style=\"text-align: right;\">\n",
       "      <th></th>\n",
       "      <th>type</th>\n",
       "      <th>posts</th>\n",
       "    </tr>\n",
       "  </thead>\n",
       "  <tbody>\n",
       "    <tr>\n",
       "      <th>7814</th>\n",
       "      <td>INFP</td>\n",
       "      <td>'Macona , it depends if the big family has ext...</td>\n",
       "    </tr>\n",
       "    <tr>\n",
       "      <th>2233</th>\n",
       "      <td>ENFJ</td>\n",
       "      <td>https://www.youtube.com/watch?v=cfg4SC9Nics|||...</td>\n",
       "    </tr>\n",
       "    <tr>\n",
       "      <th>7261</th>\n",
       "      <td>INFJ</td>\n",
       "      <td>'@ Heylena.   Lol! Compliment accepted. Thank ...</td>\n",
       "    </tr>\n",
       "    <tr>\n",
       "      <th>7794</th>\n",
       "      <td>INFJ</td>\n",
       "      <td>'2pac right|||??? rocket coffin, like packed w...</td>\n",
       "    </tr>\n",
       "    <tr>\n",
       "      <th>2950</th>\n",
       "      <td>INTJ</td>\n",
       "      <td>'The title of this thread is misleading; there...</td>\n",
       "    </tr>\n",
       "  </tbody>\n",
       "</table>\n",
       "</div>"
      ],
      "text/plain": [
       "      type                                              posts\n",
       "7814  INFP  'Macona , it depends if the big family has ext...\n",
       "2233  ENFJ  https://www.youtube.com/watch?v=cfg4SC9Nics|||...\n",
       "7261  INFJ  '@ Heylena.   Lol! Compliment accepted. Thank ...\n",
       "7794  INFJ  '2pac right|||??? rocket coffin, like packed w...\n",
       "2950  INTJ  'The title of this thread is misleading; there..."
      ]
     },
     "execution_count": 6,
     "metadata": {},
     "output_type": "execute_result"
    }
   ],
   "source": [
    "test_data.head()"
   ]
  },
  {
   "cell_type": "code",
   "execution_count": 7,
   "metadata": {},
   "outputs": [
    {
     "data": {
      "image/png": "[encoded data removed]",
      "text/plain": [
       "<Figure size 864x432 with 1 Axes>"
      ]
     },
     "metadata": {
      "needs_background": "light"
     },
     "output_type": "display_data"
    }
   ],
   "source": [
    "# visualise the occurances/distribution of all the class types.\n",
    "num_c = train_data['type'].value_counts()\n",
    "f, ax = plt.subplots(figsize=(12,6))\n",
    "sns.barplot( num_c.values, num_c.index, palette=\"Blues_d\")\n",
    "ax.xaxis.grid(False)\n",
    "ax.set(xlabel=\"Number of Occurrences\")\n",
    "ax.set(ylabel=\"Personality Types\")\n",
    "ax.set(title=\"Personality Occurances\")\n",
    "sns.despine(trim=True, left=True, bottom=True)"
   ]
  },
  {
   "cell_type": "code",
   "execution_count": 8,
   "metadata": {},
   "outputs": [],
   "source": [
    "train_type = train_data[['type']]\n",
    "test_type = test_data[['type']]\n",
    "train_data.drop(['type'], axis=1, inplace=True)\n",
    "test_data.drop(['type'], axis=1, inplace=True)"
   ]
  },
  {
   "cell_type": "code",
   "execution_count": 9,
   "metadata": {},
   "outputs": [
    {
     "data": {
      "text/html": [
       "<div>\n",
       "<style scoped>\n",
       "    .dataframe tbody tr th:only-of-type {\n",
       "        vertical-align: middle;\n",
       "    }\n",
       "\n",
       "    .dataframe tbody tr th {\n",
       "        vertical-align: top;\n",
       "    }\n",
       "\n",
       "    .dataframe thead th {\n",
       "        text-align: right;\n",
       "    }\n",
       "</style>\n",
       "<table border=\"1\" class=\"dataframe\">\n",
       "  <thead>\n",
       "    <tr style=\"text-align: right;\">\n",
       "      <th></th>\n",
       "      <th>posts</th>\n",
       "    </tr>\n",
       "  </thead>\n",
       "  <tbody>\n",
       "    <tr>\n",
       "      <th>0</th>\n",
       "      <td>'this is actually exactly what i expected!  :l...</td>\n",
       "    </tr>\n",
       "    <tr>\n",
       "      <th>1</th>\n",
       "      <td>'Nope.  Not now, not ever.  I'm too busy with ...</td>\n",
       "    </tr>\n",
       "    <tr>\n",
       "      <th>2</th>\n",
       "      <td>'Yes peace is the absence of conflict - your I...</td>\n",
       "    </tr>\n",
       "    <tr>\n",
       "      <th>3</th>\n",
       "      <td>'I apologize for the delayed response, but tha...</td>\n",
       "    </tr>\n",
       "    <tr>\n",
       "      <th>4</th>\n",
       "      <td>'Nightglow, I can't even imagine what you must...</td>\n",
       "    </tr>\n",
       "  </tbody>\n",
       "</table>\n",
       "</div>"
      ],
      "text/plain": [
       "                                               posts\n",
       "0  'this is actually exactly what i expected!  :l...\n",
       "1  'Nope.  Not now, not ever.  I'm too busy with ...\n",
       "2  'Yes peace is the absence of conflict - your I...\n",
       "3  'I apologize for the delayed response, but tha...\n",
       "4  'Nightglow, I can't even imagine what you must..."
      ]
     },
     "execution_count": 9,
     "metadata": {},
     "output_type": "execute_result"
    }
   ],
   "source": [
    "# put all the features together to enable quick transformation process\n",
    "post_features = pd.concat([train_data, test_data],sort=False).reset_index(drop=True)\n",
    "post_features.head()"
   ]
  },
  {
   "cell_type": "code",
   "execution_count": 10,
   "metadata": {},
   "outputs": [],
   "source": [
    "# using regular expressions for dealing with special patterns of noise.\n",
    "pattern = r'http[s]?://(?:[A-Za-z]|[0-9]|[$-_@.&+]|[!*\\(\\),]|(?:%[0-9A-Fa-f][0-9A-Fa-f]))+'\n",
    "post_features = post_features.replace(to_replace = pattern, value = ' ', regex = True)"
   ]
  },
  {
   "cell_type": "code",
   "execution_count": 11,
   "metadata": {},
   "outputs": [
    {
     "data": {
      "text/html": [
       "<div>\n",
       "<style scoped>\n",
       "    .dataframe tbody tr th:only-of-type {\n",
       "        vertical-align: middle;\n",
       "    }\n",
       "\n",
       "    .dataframe tbody tr th {\n",
       "        vertical-align: top;\n",
       "    }\n",
       "\n",
       "    .dataframe thead th {\n",
       "        text-align: right;\n",
       "    }\n",
       "</style>\n",
       "<table border=\"1\" class=\"dataframe\">\n",
       "  <thead>\n",
       "    <tr style=\"text-align: right;\">\n",
       "      <th></th>\n",
       "      <th>posts</th>\n",
       "    </tr>\n",
       "  </thead>\n",
       "  <tbody>\n",
       "    <tr>\n",
       "      <th>0</th>\n",
       "      <td>'this is actually exactly what i expected!  :l...</td>\n",
       "    </tr>\n",
       "    <tr>\n",
       "      <th>1</th>\n",
       "      <td>'Nope.  Not now, not ever.  I'm too busy with ...</td>\n",
       "    </tr>\n",
       "    <tr>\n",
       "      <th>2</th>\n",
       "      <td>'Yes peace is the absence of conflict - your I...</td>\n",
       "    </tr>\n",
       "    <tr>\n",
       "      <th>3</th>\n",
       "      <td>'I apologize for the delayed response, but tha...</td>\n",
       "    </tr>\n",
       "    <tr>\n",
       "      <th>4</th>\n",
       "      <td>'Nightglow, I can't even imagine what you must...</td>\n",
       "    </tr>\n",
       "  </tbody>\n",
       "</table>\n",
       "</div>"
      ],
      "text/plain": [
       "                                               posts\n",
       "0  'this is actually exactly what i expected!  :l...\n",
       "1  'Nope.  Not now, not ever.  I'm too busy with ...\n",
       "2  'Yes peace is the absence of conflict - your I...\n",
       "3  'I apologize for the delayed response, but tha...\n",
       "4  'Nightglow, I can't even imagine what you must..."
      ]
     },
     "execution_count": 11,
     "metadata": {},
     "output_type": "execute_result"
    }
   ],
   "source": [
    "post_features.head()"
   ]
  },
  {
   "cell_type": "code",
   "execution_count": 12,
   "metadata": {},
   "outputs": [
    {
     "name": "stderr",
     "output_type": "stream",
     "text": [
      "[nltk_data] Downloading package stopwords to\n",
      "[nltk_data]     C:\\Users\\squid\\AppData\\Roaming\\nltk_data...\n",
      "[nltk_data]   Package stopwords is already up-to-date!\n",
      "[nltk_data] Downloading package wordnet to\n",
      "[nltk_data]     C:\\Users\\squid\\AppData\\Roaming\\nltk_data...\n",
      "[nltk_data]   Package wordnet is already up-to-date!\n",
      "[nltk_data] Downloading package omw-1.4 to\n",
      "[nltk_data]     C:\\Users\\squid\\AppData\\Roaming\\nltk_data...\n",
      "[nltk_data]   Package omw-1.4 is already up-to-date!\n"
     ]
    }
   ],
   "source": [
    "# creating a cleaned corpus\n",
    "\n",
    "from nltk.stem.wordnet import WordNetLemmatizer \n",
    "from nltk.stem.porter import PorterStemmer\n",
    "from nltk.corpus import stopwords\n",
    "\n",
    "import nltk\n",
    "nltk.download('stopwords')\n",
    "nltk.download('wordnet')\n",
    "nltk.download('omw-1.4')\n",
    "\n",
    "lem = WordNetLemmatizer() # returns the actual root word of a text token\n",
    "# ps = PorterStemmer() # cuts off the surfix but doesnt necessarily return the root word\n",
    "corpus =[]\n",
    "# cleaning text\n",
    "for i in range(0,len(post_features['posts'])):\n",
    "\n",
    "  post = re.sub('[^a-zA-Z]', ' ',str(post_features.iloc[i].values)) \n",
    "  post = post.lower()\n",
    "  post = post.split()\n",
    "  # ps.stem(word) #MethodAttempt\n",
    "  stop_wrds = set(stopwords.words('english'))\n",
    "  post = [lem.lemmatize(word, \"v\") for word in post if not word in stop_wrds]\n",
    "  post = ' '.join(post)\n",
    "  corpus.append(post)\n",
    "\n",
    "post_features['posts_clean'] = corpus\n",
    "post_features.drop(['posts'], axis=1, inplace=True)       "
   ]
  },
  {
   "cell_type": "code",
   "execution_count": 13,
   "metadata": {},
   "outputs": [
    {
     "data": {
      "text/html": [
       "<div>\n",
       "<style scoped>\n",
       "    .dataframe tbody tr th:only-of-type {\n",
       "        vertical-align: middle;\n",
       "    }\n",
       "\n",
       "    .dataframe tbody tr th {\n",
       "        vertical-align: top;\n",
       "    }\n",
       "\n",
       "    .dataframe thead th {\n",
       "        text-align: right;\n",
       "    }\n",
       "</style>\n",
       "<table border=\"1\" class=\"dataframe\">\n",
       "  <thead>\n",
       "    <tr style=\"text-align: right;\">\n",
       "      <th></th>\n",
       "      <th>posts_clean</th>\n",
       "    </tr>\n",
       "  </thead>\n",
       "  <tbody>\n",
       "    <tr>\n",
       "      <th>0</th>\n",
       "      <td>actually exactly expect laugh introversion ext...</td>\n",
       "    </tr>\n",
       "    <tr>\n",
       "      <th>1</th>\n",
       "      <td>nope ever busy work cause adrenaline rush acti...</td>\n",
       "    </tr>\n",
       "    <tr>\n",
       "      <th>2</th>\n",
       "      <td>yes peace absence conflict infp friend suxx ha...</td>\n",
       "    </tr>\n",
       "    <tr>\n",
       "      <th>3</th>\n",
       "      <td>apologize delay response thank take time share...</td>\n",
       "    </tr>\n",
       "    <tr>\n",
       "      <th>4</th>\n",
       "      <td>nightglow even imagine must struggle right dad...</td>\n",
       "    </tr>\n",
       "  </tbody>\n",
       "</table>\n",
       "</div>"
      ],
      "text/plain": [
       "                                         posts_clean\n",
       "0  actually exactly expect laugh introversion ext...\n",
       "1  nope ever busy work cause adrenaline rush acti...\n",
       "2  yes peace absence conflict infp friend suxx ha...\n",
       "3  apologize delay response thank take time share...\n",
       "4  nightglow even imagine must struggle right dad..."
      ]
     },
     "execution_count": 13,
     "metadata": {},
     "output_type": "execute_result"
    }
   ],
   "source": [
    "post_features.head()"
   ]
  },
  {
   "cell_type": "code",
   "execution_count": 14,
   "metadata": {},
   "outputs": [
    {
     "name": "stdout",
     "output_type": "stream",
     "text": [
      "  (0, 74333)\t0.06395629709917167\n",
      "  (0, 54596)\t0.05059213344813968\n",
      "  (0, 7357)\t0.014547278633472967\n",
      "  (0, 36785)\t0.03536058979580873\n",
      "  (0, 32128)\t0.02631851248805686\n",
      "  (0, 43714)\t0.015264681361843183\n",
      "  (0, 81160)\t0.03383826236764225\n",
      "  (0, 64886)\t0.03630209498967487\n",
      "  (0, 6332)\t0.03772654037445236\n",
      "  (0, 82139)\t0.03957050699148336\n",
      "  (0, 33618)\t0.045605673935774096\n",
      "  (0, 14174)\t0.046683366153462455\n",
      "  (0, 17908)\t0.05183508075651206\n",
      "  (0, 25521)\t0.034087591945694246\n",
      "  (0, 22555)\t0.017247544672459716\n",
      "  (0, 15429)\t0.029273205754348244\n",
      "  (0, 68783)\t0.042535714266810416\n",
      "  (0, 65852)\t0.05657301379986916\n",
      "  (0, 59934)\t0.0523808985758521\n",
      "  (0, 75301)\t0.02314004580075041\n",
      "  (0, 17989)\t0.056526537893329294\n",
      "  (0, 25508)\t0.07541218908431893\n",
      "  (0, 8173)\t0.08196498100027004\n",
      "  (0, 43949)\t0.05758302081976705\n",
      "  (0, 7345)\t0.03454742069210482\n",
      "  :\t:\n",
      "  (0, 75507)\t0.014730160660568436\n",
      "  (0, 23388)\t0.02948849398495125\n",
      "  (0, 61637)\t0.01270225239434989\n",
      "  (0, 58518)\t0.013277817225790035\n",
      "  (0, 30183)\t0.030651428789944285\n",
      "  (0, 79163)\t0.10377502720130706\n",
      "  (0, 70217)\t0.03988418056978995\n",
      "  (0, 66644)\t0.033975981942879284\n",
      "  (0, 56636)\t0.029807207518014904\n",
      "  (0, 74522)\t0.05174704173081673\n",
      "  (0, 82306)\t0.13600844991887517\n",
      "  (0, 52367)\t0.020762094625237187\n",
      "  (0, 5531)\t0.053469667440650064\n",
      "  (0, 37221)\t0.0537892615588993\n",
      "  (0, 8992)\t0.07310562945362101\n",
      "  (0, 13910)\t0.04725887320895216\n",
      "  (0, 12428)\t0.03778813934641965\n",
      "  (0, 75803)\t0.050920844114896356\n",
      "  (0, 38004)\t0.031367042769972764\n",
      "  (0, 25202)\t0.04217188971875488\n",
      "  (0, 37954)\t0.036772442238288267\n",
      "  (0, 42389)\t0.07749461696107196\n",
      "  (0, 24866)\t0.024626934903635947\n",
      "  (0, 24536)\t0.03901138578700843\n",
      "  (0, 800)\t0.03992596657397695\n"
     ]
    }
   ],
   "source": [
    "# Create Ranked Statistical Features with TfidfVectorizer, best choice because insignificant words recieve a lower rank\n",
    "obj = TfidfVectorizer()\n",
    "post_final_features = obj.fit_transform(post_features['posts_clean'])\n",
    "print(post_final_features[0])\n",
    "\n",
    "#AnotherMethodAttempt\n",
    "# Create Ranked Statistical Features with CountVectorizer has no ranking machanism\n",
    "# obj = CountVectorizer() \n",
    "# post_final_features = obj.fit_transform(post_features['posts_clean']).toarray()\n",
    "# print(post_final_features[0:5])"
   ]
  },
  {
   "cell_type": "code",
   "execution_count": 15,
   "metadata": {},
   "outputs": [
    {
     "name": "stdout",
     "output_type": "stream",
     "text": [
      "      I-E  S-N  F-T  P-J\n",
      "8331    0    1    0    0\n",
      "1290    0    0    1    0\n",
      "1982    1    1    0    1\n",
      "769     0    1    0    0\n",
      "8339    0    1    0    0\n"
     ]
    }
   ],
   "source": [
    "# label extraction and creating our target variables from personality types\n",
    "pd.options.mode.chained_assignment = None\n",
    "yc = pd.DataFrame(train_type['type'])\n",
    "train_type['I-E'] = train_type['type'].astype(str).str[0]\n",
    "train_type['I-E'] = train_type['I-E'].map({\"I\": 0, \"E\": 1})\n",
    "train_type['S-N'] = train_type['type'].astype(str).str[1]\n",
    "train_type['S-N'] = train_type['S-N'].map({\"S\": 0, \"N\": 1})\n",
    "train_type['F-T'] = train_type['type'].astype(str).str[2]\n",
    "train_type['F-T'] = train_type['F-T'].map({\"F\": 0, \"T\": 1})\n",
    "train_type['P-J'] = train_type['type'].astype(str).str[3]\n",
    "train_type['P-J'] = train_type['P-J'].map({\"P\": 0, \"J\": 1})\n",
    "train_type.drop('type', axis=1, inplace=True) \n",
    "y = train_type\n",
    "print(y[0:5])"
   ]
  },
  {
   "cell_type": "code",
   "execution_count": 16,
   "metadata": {},
   "outputs": [
    {
     "name": "stdout",
     "output_type": "stream",
     "text": [
      "[[0 1 0 0]\n",
      " [0 0 1 0]\n",
      " [1 1 0 1]\n",
      " [0 1 0 0]\n",
      " [0 1 0 0]]\n"
     ]
    }
   ],
   "source": [
    "y = np.array(y)\n",
    "print(y[0:5])"
   ]
  },
  {
   "cell_type": "code",
   "execution_count": 17,
   "metadata": {},
   "outputs": [
    {
     "name": "stdout",
     "output_type": "stream",
     "text": [
      "Features size for train(X,y) and test(X_final_test):\n",
      "X (6940, 85754) y (6940, 4) X_final_test (1735, 85754)\n"
     ]
    }
   ],
   "source": [
    "# Spliting the data back to train(X,y) and test(X_sub)\n",
    "X = post_final_features[:len(y), :]\n",
    "X_final_test = post_final_features[len(y):, :]\n",
    "print('Features size for train(X,y) and test(X_final_test):')\n",
    "print('X', X.shape, 'y', y.shape, 'X_final_test', X_final_test.shape)"
   ]
  },
  {
   "cell_type": "code",
   "execution_count": 18,
   "metadata": {},
   "outputs": [],
   "source": [
    "# Predicting model\n",
    "model = OneVsRestClassifier(LogisticRegressionCV(Cs=30, solver = 'saga',\n",
    "                                                       multi_class = 'multinomial', cv=5), n_jobs =-1)"
   ]
  },
  {
   "cell_type": "code",
   "execution_count": 19,
   "metadata": {},
   "outputs": [],
   "source": [
    "# split the train set to create a validation set\n",
    "X_train, X_test, y_train, y_test = train_test_split(X, y, test_size=0.20)"
   ]
  },
  {
   "cell_type": "code",
   "execution_count": 20,
   "metadata": {},
   "outputs": [
    {
     "data": {
      "text/plain": [
       "OneVsRestClassifier(estimator=LogisticRegressionCV(Cs=30, cv=5,\n",
       "                                                   multi_class='multinomial',\n",
       "                                                   solver='saga'),\n",
       "                    n_jobs=-1)"
      ]
     },
     "execution_count": 20,
     "metadata": {},
     "output_type": "execute_result"
    }
   ],
   "source": [
    "# train model with 80% of train set\n",
    "model.fit(X_train, y_train)"
   ]
  },
  {
   "cell_type": "code",
   "execution_count": 21,
   "metadata": {},
   "outputs": [],
   "source": [
    "# predict 20% of train set\n",
    "y_pred = model.predict(X_test)"
   ]
  },
  {
   "cell_type": "code",
   "execution_count": 22,
   "metadata": {},
   "outputs": [
    {
     "name": "stdout",
     "output_type": "stream",
     "text": [
      "              precision    recall  f1-score   support\n",
      "\n",
      "        Mind       0.73      0.55      0.63       322\n",
      "      Energy       0.91      0.99      0.95      1196\n",
      "      Nature       0.83      0.85      0.84       626\n",
      "     Tactics       0.82      0.59      0.69       554\n",
      "\n",
      "   micro avg       0.86      0.82      0.84      2698\n",
      "   macro avg       0.82      0.74      0.78      2698\n",
      "weighted avg       0.85      0.82      0.83      2698\n",
      " samples avg       0.85      0.82      0.81      2698\n",
      "\n"
     ]
    }
   ],
   "source": [
    "# performance matrics and model eveluation using sklearn.metrics inbuilt classification metric\n",
    "print(classification_report(y_test, y_pred, target_names=['Mind', 'Energy', 'Nature', 'Tactics']))"
   ]
  },
  {
   "cell_type": "code",
   "execution_count": 23,
   "metadata": {},
   "outputs": [],
   "source": [
    "# Reinitialise final model\n",
    "model = OneVsRestClassifier(LogisticRegressionCV(Cs=30, solver = 'saga',\n",
    "                                                 multi_class = 'multinomial', cv=10), n_jobs =-1)"
   ]
  },
  {
   "cell_type": "code",
   "execution_count": 24,
   "metadata": {},
   "outputs": [
    {
     "data": {
      "text/plain": [
       "OneVsRestClassifier(estimator=LogisticRegressionCV(Cs=30, cv=10,\n",
       "                                                   multi_class='multinomial',\n",
       "                                                   solver='saga'),\n",
       "                    n_jobs=-1)"
      ]
     },
     "execution_count": 24,
     "metadata": {},
     "output_type": "execute_result"
    }
   ],
   "source": [
    "# train final model with full train set \n",
    "model.fit(X, y)"
   ]
  },
  {
   "cell_type": "code",
   "execution_count": 25,
   "metadata": {},
   "outputs": [],
   "source": [
    "# pridicting the actual test set (X_final_test)\n",
    "y_predicted = model.predict(X_final_test)"
   ]
  },
  {
   "cell_type": "code",
   "execution_count": 26,
   "metadata": {},
   "outputs": [
    {
     "name": "stdout",
     "output_type": "stream",
     "text": [
      "[[0 1 0 0]\n",
      " [0 1 0 0]\n",
      " [0 1 0 1]\n",
      " [0 1 1 1]\n",
      " [0 1 1 0]]\n"
     ]
    }
   ],
   "source": [
    "# Final model results\n",
    "print(y_predicted[0:5])"
   ]
  },
  {
   "cell_type": "code",
   "execution_count": 27,
   "metadata": {},
   "outputs": [],
   "source": [
    "def changeNumToMBTI(ar_lbl):\n",
    "  result = ''\n",
    "  if ar_lbl[0] == 0:\n",
    "    result += 'I'\n",
    "  else:\n",
    "    result += 'E'\n",
    "\n",
    "  if ar_lbl[1] == 0:\n",
    "    result += 'S'\n",
    "  else:\n",
    "    result += 'N'\n",
    "    \n",
    "  if ar_lbl[2] == 0:\n",
    "    result += 'F'\n",
    "  else:\n",
    "    result += 'T'\n",
    "\n",
    "  if ar_lbl[3] == 0:\n",
    "    result += 'P'\n",
    "  else:\n",
    "    result += 'J'\n",
    "    \n",
    "  return result"
   ]
  },
  {
   "cell_type": "code",
   "execution_count": 29,
   "metadata": {},
   "outputs": [],
   "source": [
    "def getMBTI(msg):\n",
    "  words_vec = obj.transform([msg]).toarray()\n",
    "  return changeNumToMBTI(words_vec[0])"
   ]
  },
  {
   "cell_type": "code",
   "execution_count": 31,
   "metadata": {},
   "outputs": [
    {
     "name": "stdout",
     "output_type": "stream",
     "text": [
      "ISFP\n",
      "ISFP\n"
     ]
    }
   ],
   "source": [
    "# momoka ENFP\n",
    "# session10 5min\n",
    "print(getMBTI(\"Certainly, with today's technology, I think you don't have to go and see them anymore to see them in a great way, but then I thought, why did you bring them here at the zoo? But then, why did you come to the zoo? Plus, the zoo fees are fairly inexpensive, but it would probably cost a fair amount of money to go and see the animals in person, or to use the equipment. I thought that the zoo was created to make it easy to see the animals. What do you think? I don't know. I don't know. Yes, I think that the loss of the wild function would take away the good parts of the animal. Nowadays, people talk about the importance of individuality, so I wonder if that is part of it.\"))\n",
    "print(getMBTI(open(\"./data/text/lookback/momoka_en.txt\", \"r\", encoding='UTF-8').read()))"
   ]
  },
  {
   "cell_type": "code",
   "execution_count": 32,
   "metadata": {},
   "outputs": [
    {
     "name": "stdout",
     "output_type": "stream",
     "text": [
      "ISFP\n",
      "ISFP\n"
     ]
    }
   ],
   "source": [
    "# issei ESFJ session10\n",
    "print(getMBTI(\"Yes, for three weeks, but the reason for this is that I think zoos also have the role of protecting animals, and animals that cannot live on their own due to the harsh environment, global warming, deforestation, etc., have a difficult time living in zoos. I wondered which of the two was more necessary. I think it is true that humans are responsible for the destruction of the environment, but I also believe that it is because of the actions of the next generation of humans that we are able to protect the environment.\"))\n",
    "print(getMBTI(open(\"./data/text/lookback/issei_en.txt\", \"r\", encoding='UTF-8').read()))"
   ]
  },
  {
   "cell_type": "code",
   "execution_count": 33,
   "metadata": {},
   "outputs": [
    {
     "name": "stdout",
     "output_type": "stream",
     "text": [
      "ISFP\n",
      "ISFP\n"
     ]
    }
   ],
   "source": [
    "# kai ESFP session10\n",
    "print(getMBTI(\"Yes, I am. I would like to hear the opinions of those who are in favor of the zoo first. I see. Thank you very much. Do you have any questions for the main section? I see. Thank you very much. I think that one of the opinions of the proponents is the protection of animals, and the other is that people will be interested in animals when they see them. Then I would like to move on to 3, the opponents' opinions. I see. Thank you very much. I would like to speak next, but I think my opinion would be a bit like a rebuttal to your opinion, but nowadays, various technologies have developed. In the past, there was little such technology, and many people had no choice but to go and see the animals in person, or there was nothing to see even if they took pictures of the animals. I think the value of zoos was high as a place to learn about things, but nowadays there are a lot of resources available, and I think it's fine not to go to the trouble of putting animals in a zoo and observing them, but it's easy to do so. I think it is better to casually take animals that are living in the wild and view them in that way than to put them in a world that is like a prison, and I think it is better for me to study them. So, you know, one thing I disagree with is your reaction. I also responded to Momoka's opinion, saying that there must be some way to learn about animals or to get people interested in them, even if it is not in an individual zoo. I would like to ask you, Mr. Ishii, if you have any objections or even sympathies for Mr. Keita's opinion, that you heard earlier, that would be totally fine. Do you have any?\"))\n",
    "print(getMBTI(open(\"./data/text/lookback/kai_en.txt\", \"r\", encoding='UTF-8').read()))"
   ]
  },
  {
   "cell_type": "code",
   "execution_count": 34,
   "metadata": {},
   "outputs": [
    {
     "name": "stdout",
     "output_type": "stream",
     "text": [
      "ISFP\n",
      "ISFP\n"
     ]
    }
   ],
   "source": [
    "# keito ENFP session10\n",
    "print(getMBTI(\"The opponents' point of view is protection, but it was humans who created the conditions that made it necessary to reinforce the situation in the first place, and it was not humans who experienced all the environmental destruction and global warming. For example, in the case of global warming, it was exhaust emissions, deforestation, and wages for the land needed to build towns and cities, but the animals could no longer live there, so we said we would build zoos and protect them. But only a small percentage of the animals can be protected, and all the animals living in the logged area cannot be sent to the zoo, so they are driven away. So, I think that what the zoo has created is only English for humans, and that's why I have this opinion. It's a different opposing opinion. Yeah.\"))\n",
    "print(getMBTI(open(\"./data/text/lookback/keito_en.txt\", \"r\", encoding='UTF-8').read()))"
   ]
  }
 ],
 "metadata": {
  "kernelspec": {
   "display_name": "Python 3.9.2 64-bit",
   "language": "python",
   "name": "python3"
  },
  "language_info": {
   "codemirror_mode": {
    "name": "ipython",
    "version": 3
   },
   "file_extension": ".py",
   "mimetype": "text/x-python",
   "name": "python",
   "nbconvert_exporter": "python",
   "pygments_lexer": "ipython3",
   "version": "3.9.2"
  },
  "orig_nbformat": 4,
  "vscode": {
   "interpreter": {
    "hash": "a85d2ef23d6583666fa71d3e08c04afc19f58e3c237388c1b61eada76bc58ca7"
   }
  }
 },
 "nbformat": 4,
 "nbformat_minor": 2
}
