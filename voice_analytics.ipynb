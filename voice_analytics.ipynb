{
 "cells": [
  {
   "cell_type": "code",
   "execution_count": 18,
   "metadata": {},
   "outputs": [],
   "source": [
    "import pandas as pd\n",
    "import librosa\n",
    "import os"
   ]
  },
  {
   "cell_type": "code",
   "execution_count": 19,
   "metadata": {},
   "outputs": [],
   "source": [
    "y, sr = librosa.load(\"./data/wav/kai/20211214_session10_voice_kai.wav\", sr=None)\n",
    "mfcc = librosa.feature.mfcc(y=y, sr=sr, n_mfcc=20)\n",
    "ceps = mfcc.mean(axis=1)\n",
    "\n",
    "def writeMfccCSV(name, n):\n",
    "    base_dic_name = './data/wav/'\n",
    "    filelist = []\n",
    "    filelist.extend((base_dic_name + name + '/'+ fn) for fn in os.listdir(base_dic_name + name))\n",
    "\n",
    "    list_ceps = []\n",
    "    for filename in filelist:\n",
    "        y, sr = librosa.core.load(filename,sr=None)\n",
    "        mfcc = librosa.feature.mfcc(y=y, sr=sr, n_mfcc=n)\n",
    "        \n",
    "        # 複数のローリングウィンドウでそれぞれ20次元のMFCCを得られるので、その平均をとる。\n",
    "        ceps = mfcc.mean(axis=1)\n",
    "        \n",
    "        # リストに追加\n",
    "        list_ceps.append(ceps)  # 20次元のMFCCを追加\n",
    "\n",
    "    df_ceps = pd.DataFrame(list_ceps)\n",
    "\n",
    "    columns_name = []  # カラム名を\"dct+連番\"でつける\n",
    "    for i in range(n):\n",
    "        columns_name_temp = 'dct{0}'.format(i)\n",
    "        columns_name.append(columns_name_temp)\n",
    "\n",
    "    df_ceps.columns = columns_name\n",
    "\n",
    "    # output\n",
    "    df_ceps.to_csv('./data/output/' + name + '_mfcc' + str(n) + '_ave.csv')"
   ]
  },
  {
   "cell_type": "code",
   "execution_count": 20,
   "metadata": {},
   "outputs": [],
   "source": [
    "# issei  ESFJ -> S\n",
    "# kai    ESFP -> S\n",
    "# katuki ISFP -> S\n",
    "\n",
    "# momoka ENFP -> N\n",
    "# keito  ENFP -> N\n",
    "n_list = [3, 5, 7, 9, 15, 20]\n",
    "name_list = ['issei', 'kai', 'katuki', 'momoka', 'keito']"
   ]
  },
  {
   "cell_type": "code",
   "execution_count": 21,
   "metadata": {},
   "outputs": [
    {
     "name": "stdout",
     "output_type": "stream",
     "text": [
      "issei 3\n",
      "kai 3\n",
      "katuki 3\n",
      "momoka 3\n",
      "keito 3\n",
      "issei 5\n",
      "kai 5\n",
      "katuki 5\n",
      "momoka 5\n",
      "keito 5\n",
      "issei 7\n",
      "kai 7\n",
      "katuki 7\n",
      "momoka 7\n",
      "keito 7\n",
      "issei 9\n",
      "kai 9\n",
      "katuki 9\n",
      "momoka 9\n",
      "keito 9\n",
      "issei 15\n",
      "kai 15\n",
      "katuki 15\n",
      "momoka 15\n",
      "keito 15\n",
      "issei 20\n",
      "kai 20\n",
      "katuki 20\n",
      "momoka 20\n",
      "keito 20\n"
     ]
    }
   ],
   "source": [
    "for n in n_list:\n",
    "  for name in name_list:\n",
    "    print(name, n)\n",
    "    writeMfccCSV(name, n)"
   ]
  }
 ],
 "metadata": {
  "kernelspec": {
   "display_name": "Python 3.9.2 64-bit",
   "language": "python",
   "name": "python3"
  },
  "language_info": {
   "codemirror_mode": {
    "name": "ipython",
    "version": 3
   },
   "file_extension": ".py",
   "mimetype": "text/x-python",
   "name": "python",
   "nbconvert_exporter": "python",
   "pygments_lexer": "ipython3",
   "version": "3.9.2"
  },
  "orig_nbformat": 4,
  "vscode": {
   "interpreter": {
    "hash": "a85d2ef23d6583666fa71d3e08c04afc19f58e3c237388c1b61eada76bc58ca7"
   }
  }
 },
 "nbformat": 4,
 "nbformat_minor": 2
}
